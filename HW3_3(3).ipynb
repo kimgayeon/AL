{
 "cells": [
  {
   "cell_type": "markdown",
   "metadata": {},
   "source": [
    "(3) 데이터 확대 방법들 중 하나를 적용한 후, 2번 문제의 신경망학습"
   ]
  },
  {
   "cell_type": "code",
   "execution_count": 1,
   "metadata": {
    "collapsed": true
   },
   "outputs": [],
   "source": [
    "import torch\n",
    "import torchvision\n",
    "import torchvision.transforms as transforms"
   ]
  },
  {
   "cell_type": "code",
   "execution_count": 3,
   "metadata": {},
   "outputs": [
    {
     "name": "stdout",
     "output_type": "stream",
     "text": [
      "Files already downloaded and verified\n",
      "Files already downloaded and verified\n",
      "Files already downloaded and verified\n"
     ]
    }
   ],
   "source": [
    "transform1 = transforms.Compose([\n",
    "transforms.ToTensor(),\n",
    "transforms.Normalize((0.5, 0.5, 0.5), (0.5, 0.5, 0.5))\n",
    "])\n",
    "\n",
    "transform2 = transforms.Compose(\n",
    "[transforms.RandomRotation(10),\n",
    "transforms.RandomHorizontalFlip(),\n",
    "transforms.ToTensor(),\n",
    "transforms.Normalize((0.5, 0.5, 0.5), (0.5, 0.5, 0.5))\n",
    "])\n",
    "\n",
    "trainset1 = torchvision.datasets.CIFAR10(root='./data', train=True,\n",
    "download=True, transform=transform1)\n",
    "trainset2 = torchvision.datasets.CIFAR10(root='./data', train=True,\n",
    "download=True, transform=transform2)\n",
    "\n",
    "trainset = torch.utils.data.ConcatDataset([trainset1, trainset2])\n",
    "trainloader = torch.utils.data.DataLoader(trainset, batch_size=4,\n",
    "shuffle=True, num_workers=2)\n",
    "\n",
    "testset = torchvision.datasets.CIFAR10(root='./data', train=False,\n",
    "download=True, transform=transform1)\n",
    "testloader = torch.utils.data.DataLoader(testset, batch_size=4,\n",
    "shuffle=False, num_workers=2)\n",
    "\n",
    "classes = ('plane', 'car', 'bird', 'cat','deer','dog','frog','horse','ship','truck')"
   ]
  },
  {
   "cell_type": "code",
   "execution_count": 4,
   "metadata": {
    "collapsed": true
   },
   "outputs": [],
   "source": [
    "#functions to show image\n",
    "def imshow(img):\n",
    "    img = img / 2 + 0.5 # unnormalize\n",
    "    npimg = img.numpy()\n",
    "    plt.imshow(np.transpose(npimg, (1, 2, 0)))"
   ]
  },
  {
   "cell_type": "code",
   "execution_count": 5,
   "metadata": {
    "collapsed": true
   },
   "outputs": [],
   "source": [
    "# 훈련집합의 일부사진들 확인\n",
    "import matplotlib.pyplot as plt\n",
    "import numpy as np"
   ]
  },
  {
   "cell_type": "code",
   "execution_count": 6,
   "metadata": {
    "collapsed": true
   },
   "outputs": [],
   "source": [
    "# get some random training images\n",
    "dataiter = iter(trainloader)\n",
    "images, labels = dataiter.next()"
   ]
  },
  {
   "cell_type": "code",
   "execution_count": 7,
   "metadata": {},
   "outputs": [
    {
     "data": {
      "image/png": "[encoded data removed]",
      "text/plain": [
       "<Figure size 432x288 with 1 Axes>"
      ]
     },
     "metadata": {},
     "output_type": "display_data"
    }
   ],
   "source": [
    "# show images\n",
    "imshow(torchvision.utils.make_grid(images))"
   ]
  },
  {
   "cell_type": "code",
   "execution_count": 8,
   "metadata": {},
   "outputs": [
    {
     "name": "stdout",
     "output_type": "stream",
     "text": [
      " deer   dog truck  bird\n"
     ]
    }
   ],
   "source": [
    "# print labels\n",
    "print(' '.join('%5s' % classes[labels[j]] for j in range(4)))"
   ]
  },
  {
   "cell_type": "code",
   "execution_count": 9,
   "metadata": {
    "collapsed": true
   },
   "outputs": [],
   "source": [
    "import torch.nn as nn\n",
    "import torch.nn.functional as F"
   ]
  },
  {
   "cell_type": "code",
   "execution_count": 10,
   "metadata": {
    "collapsed": true
   },
   "outputs": [],
   "source": [
    "class Net(nn.Module):      \n",
    "    def __init__(self):\n",
    "        super(Net, self).__init__()\n",
    "        self.conv1 = nn.Conv2d(3, 6, 5)\n",
    "        self.pool = nn.MaxPool2d(2, 2)\n",
    "        self.conv2 = nn.Conv2d(6, 16, 5)\n",
    "        self.fc1 = nn.Linear(16*5*5, 120)\n",
    "        self.fc2 = nn.Linear(120, 84)\n",
    "        self.fc3 = nn.Linear(84,10)\n",
    "        \n",
    "    def forward(self, x):\n",
    "        x = self.pool(F.relu(self.conv1(x)))\n",
    "        x = self.pool(F.relu(self.conv2(x)))    \n",
    "        x = x.view(-1, 16*5*5)\n",
    "        x = F.relu(self.fc1(x))\n",
    "        x = F.relu(self.fc2(x))\n",
    "        x = self.fc3(x)\n",
    "        return x\n",
    "    \n",
    "net = Net()"
   ]
  },
  {
   "cell_type": "code",
   "execution_count": 11,
   "metadata": {
    "collapsed": true
   },
   "outputs": [],
   "source": [
    "import torch.optim as optim"
   ]
  },
  {
   "cell_type": "code",
   "execution_count": 12,
   "metadata": {
    "collapsed": true
   },
   "outputs": [],
   "source": [
    "criterion = nn.CrossEntropyLoss()\n",
    "optimizer = optim.SGD(net.parameters(), lr=0.001, momentum=0.9)"
   ]
  },
  {
   "cell_type": "code",
   "execution_count": 13,
   "metadata": {},
   "outputs": [
    {
     "name": "stderr",
     "output_type": "stream",
     "text": [
      "/usr/local/lib/python3.5/dist-packages/ipykernel_launcher.py:18: UserWarning: invalid index of a 0-dim tensor. This will be an error in PyTorch 0.5. Use tensor.item() to convert a 0-dim tensor to a Python number\n"
     ]
    },
    {
     "name": "stdout",
     "output_type": "stream",
     "text": [
      "[1,  1000] loss: 2.279\n",
      "[1,  2000] loss: 2.105\n",
      "[1,  3000] loss: 1.911\n",
      "[1,  4000] loss: 1.801\n",
      "[1,  5000] loss: 1.734\n",
      "[1,  6000] loss: 1.693\n",
      "[1,  7000] loss: 1.600\n",
      "[1,  8000] loss: 1.577\n",
      "[1,  9000] loss: 1.516\n",
      "[1, 10000] loss: 1.515\n",
      "[1, 11000] loss: 1.489\n",
      "[1, 12000] loss: 1.475\n",
      "[1, 13000] loss: 1.453\n",
      "[1, 14000] loss: 1.422\n",
      "[1, 15000] loss: 1.400\n",
      "[1, 16000] loss: 1.389\n",
      "[1, 17000] loss: 1.351\n",
      "[1, 18000] loss: 1.341\n",
      "[1, 19000] loss: 1.338\n",
      "[1, 20000] loss: 1.373\n",
      "[1, 21000] loss: 1.298\n",
      "[1, 22000] loss: 1.321\n",
      "[1, 23000] loss: 1.293\n",
      "[1, 24000] loss: 1.259\n",
      "[1, 25000] loss: 1.259\n",
      "[2,  1000] loss: 1.228\n",
      "[2,  2000] loss: 1.237\n",
      "[2,  3000] loss: 1.256\n",
      "[2,  4000] loss: 1.254\n",
      "[2,  5000] loss: 1.195\n",
      "[2,  6000] loss: 1.209\n",
      "[2,  7000] loss: 1.201\n",
      "[2,  8000] loss: 1.210\n",
      "[2,  9000] loss: 1.211\n",
      "[2, 10000] loss: 1.189\n",
      "[2, 11000] loss: 1.195\n",
      "[2, 12000] loss: 1.216\n",
      "[2, 13000] loss: 1.186\n",
      "[2, 14000] loss: 1.169\n",
      "[2, 15000] loss: 1.158\n",
      "[2, 16000] loss: 1.204\n",
      "[2, 17000] loss: 1.155\n",
      "[2, 18000] loss: 1.181\n",
      "[2, 19000] loss: 1.160\n",
      "[2, 20000] loss: 1.154\n",
      "[2, 21000] loss: 1.140\n",
      "[2, 22000] loss: 1.126\n",
      "[2, 23000] loss: 1.122\n",
      "[2, 24000] loss: 1.134\n",
      "[2, 25000] loss: 1.136\n",
      "Finished Training\n"
     ]
    }
   ],
   "source": [
    "for epoch in range(2):  # loop over the dataset multiple times\n",
    "\n",
    "    running_loss = 0.0\n",
    "    for i, data in enumerate(trainloader, 0):\n",
    "        # get the inputs\n",
    "        inputs, labels = data\n",
    "\n",
    "        # zero the parameter gradients\n",
    "        optimizer.zero_grad()\n",
    "\n",
    "        # forward + backward + optimize\n",
    "        outputs = net(inputs)\n",
    "        loss = criterion(outputs, labels)\n",
    "        loss.backward()\n",
    "        optimizer.step()\n",
    "\n",
    "        # print statistics\n",
    "        running_loss += loss.data[0]\n",
    "        if i % 1000 == 999:    # print every 1000 mini-batches\n",
    "            print('[%d, %5d] loss: %.3f' % (epoch + 1, i + 1, running_loss / 1000))\n",
    "            running_loss = 0.0\n",
    "            \n",
    "print('Finished Training')"
   ]
  },
  {
   "cell_type": "code",
   "execution_count": 14,
   "metadata": {},
   "outputs": [
    {
     "name": "stdout",
     "output_type": "stream",
     "text": [
      "Accuracy of the network on the 10000 test images: 58 %\n"
     ]
    }
   ],
   "source": [
    "#performance on the whole test dataset\n",
    "correct = 0\n",
    "total = 0\n",
    "with torch.no_grad():\n",
    "    for data in testloader:\n",
    "        images, labels = data\n",
    "        outputs = net(images)\n",
    "        _, predicted = torch.max(outputs.data, 1)\n",
    "        total += labels.size(0)\n",
    "        correct += (predicted == labels).sum().item()\n",
    "\n",
    "print('Accuracy of the network on the 10000 test images: %d %%' % (100 * correct / total))"
   ]
  },
  {
   "cell_type": "code",
   "execution_count": 15,
   "metadata": {},
   "outputs": [
    {
     "name": "stdout",
     "output_type": "stream",
     "text": [
      "Accuracy of plane : 49 %\n",
      "Accuracy of   car : 69 %\n",
      "Accuracy of  bird : 37 %\n",
      "Accuracy of   cat : 32 %\n",
      "Accuracy of  deer : 64 %\n",
      "Accuracy of   dog : 47 %\n",
      "Accuracy of  frog : 64 %\n",
      "Accuracy of horse : 68 %\n",
      "Accuracy of  ship : 86 %\n",
      "Accuracy of truck : 61 %\n"
     ]
    }
   ],
   "source": [
    "#performance on each class\n",
    "class_correct = list(0. for i in range(10))\n",
    "class_total = list(0. for i in range(10))\n",
    "with torch.no_grad():\n",
    "    for data in testloader:\n",
    "        images, labels = data\n",
    "        outputs = net(images)\n",
    "        _, predicted = torch.max(outputs, 1)\n",
    "        c = (predicted == labels).squeeze()\n",
    "        for i in range(4):\n",
    "            label = labels[i]\n",
    "            class_correct[label] += c[i].item()\n",
    "            class_total[label] += 1\n",
    "\n",
    "\n",
    "for i in range(10):\n",
    "    print('Accuracy of %5s : %2d %%' % (\n",
    "        classes[i], 100 * class_correct[i] / class_total[i]))"
   ]
  },
  {
   "cell_type": "code",
   "execution_count": null,
   "metadata": {
    "collapsed": true
   },
   "outputs": [],
   "source": []
  }
 ],
 "metadata": {
  "kernelspec": {
   "display_name": "Python 3",
   "language": "python",
   "name": "python3"
  },
  "language_info": {
   "codemirror_mode": {
    "name": "ipython",
    "version": 3
   },
   "file_extension": ".py",
   "mimetype": "text/x-python",
   "name": "python",
   "nbconvert_exporter": "python",
   "pygments_lexer": "ipython3",
   "version": "3.5.2"
  }
 },
 "nbformat": 4,
 "nbformat_minor": 2
}
