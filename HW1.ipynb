{
 "cells": [
  {
   "cell_type": "markdown",
   "metadata": {},
   "source": [
    "# 1번 - linear regression"
   ]
  },
  {
   "cell_type": "code",
   "execution_count": 336,
   "metadata": {
    "collapsed": true
   },
   "outputs": [],
   "source": [
    "import numpy as np\n",
    "%matplotlib inline\n",
    "import matplotlib\n",
    "import matplotlib.pyplot as plt"
   ]
  },
  {
   "cell_type": "code",
   "execution_count": 337,
   "metadata": {
    "collapsed": true
   },
   "outputs": [],
   "source": [
    "X = 2*np.random.rand(100,1)   #행이 100, 열이 1. 값은 다 랜덤으로 \n",
    "y = 4+3*X+np.random.randn(100,1)    #random으로 bias 정해줌(분산되도록)"
   ]
  },
  {
   "cell_type": "code",
   "execution_count": 338,
   "metadata": {
    "scrolled": true
   },
   "outputs": [
    {
     "data": {
      "image/png": "[encoded data removed]",
      "text/plain": [
       "<Figure size 432x288 with 1 Axes>"
      ]
     },
     "metadata": {},
     "output_type": "display_data"
    }
   ],
   "source": [
    "plt.plot(X,y,\"b.\")\n",
    "plt.xlabel(\"$x_1$\", fontsize=18)\n",
    "plt.ylabel(\"$y$\", rotation=0, fontsize=18)\n",
    "plt.axis([0,2,0,15])\n",
    "plt.show()"
   ]
  },
  {
   "cell_type": "markdown",
   "metadata": {},
   "source": [
    "정규 방정식을 이용한 선형회귀 접근"
   ]
  },
  {
   "cell_type": "markdown",
   "metadata": {},
   "source": [
    "c_ : 열추가 /\n",
    "ones(100,1): 행100, 열1인 배열에 모두 1로 채움"
   ]
  },
  {
   "cell_type": "code",
   "execution_count": 339,
   "metadata": {
    "collapsed": true
   },
   "outputs": [],
   "source": [
    "X_b = np.c_[np.ones((100,1)),X]\n",
    "theta_best = np.linalg.inv(X_b.T.dot(X_b)).dot(X_b.T).dot(y)"
   ]
  },
  {
   "cell_type": "code",
   "execution_count": 340,
   "metadata": {},
   "outputs": [
    {
     "name": "stdout",
     "output_type": "stream",
     "text": [
      "[[4.30382837]\n",
      " [2.77805301]]\n"
     ]
    }
   ],
   "source": [
    "print(theta_best)  # 4+3x 예측. 정규방정식으로 찾은 theta best값."
   ]
  },
  {
   "cell_type": "code",
   "execution_count": 341,
   "metadata": {
    "collapsed": true
   },
   "outputs": [],
   "source": [
    "X_new = np.array([[0],[2]])\n",
    "X_new_b = np.c_[np.ones((2,1)), X_new]\n",
    "y_predict = X_new_b.dot(theta_best)"
   ]
  },
  {
   "cell_type": "code",
   "execution_count": 342,
   "metadata": {},
   "outputs": [
    {
     "data": {
      "text/plain": [
       "array([[4.30382837],\n",
       "       [9.85993439]])"
      ]
     },
     "execution_count": 342,
     "metadata": {},
     "output_type": "execute_result"
    }
   ],
   "source": [
    "y_predict  #0,2를 넣었을때 y예측값 -> 비슷하게 나옴! "
   ]
  },
  {
   "cell_type": "code",
   "execution_count": 343,
   "metadata": {},
   "outputs": [
    {
     "data": {
      "image/png": "[encoded data removed]",
      "text/plain": [
       "<Figure size 432x288 with 1 Axes>"
      ]
     },
     "metadata": {},
     "output_type": "display_data"
    }
   ],
   "source": [
    "plt.plot(X_new, y_predict, \"r-\", linewidth=2, label=\"prediction\")\n",
    "plt.plot(X, y, \"b.\")\n",
    "plt.xlabel(\"$x_1$\", fontsize=18)\n",
    "plt.ylabel(\"$y$\", rotation=0, fontsize=18)\n",
    "plt.legend(loc=\"upper left\", fontsize=14)\n",
    "plt.axis([0, 2, 0, 15])\n",
    "plt.show()"
   ]
  },
  {
   "cell_type": "markdown",
   "metadata": {},
   "source": [
    "LinearRegression 모듈 이용"
   ]
  },
  {
   "cell_type": "code",
   "execution_count": 344,
   "metadata": {},
   "outputs": [
    {
     "data": {
      "text/plain": [
       "LinearRegression(copy_X=True, fit_intercept=True, n_jobs=1, normalize=False)"
      ]
     },
     "execution_count": 344,
     "metadata": {},
     "output_type": "execute_result"
    }
   ],
   "source": [
    "from sklearn.linear_model import LinearRegression\n",
    "lin_reg = LinearRegression()\n",
    "lin_reg.fit(X,y)"
   ]
  },
  {
   "cell_type": "code",
   "execution_count": 345,
   "metadata": {},
   "outputs": [
    {
     "data": {
      "text/plain": [
       "(array([4.30382837]), array([[2.77805301]]))"
      ]
     },
     "execution_count": 345,
     "metadata": {},
     "output_type": "execute_result"
    }
   ],
   "source": [
    "lin_reg.intercept_, lin_reg.coef_   #y절편 , x계수"
   ]
  },
  {
   "cell_type": "code",
   "execution_count": 346,
   "metadata": {},
   "outputs": [
    {
     "data": {
      "text/plain": [
       "array([[4.30382837],\n",
       "       [9.85993439]])"
      ]
     },
     "execution_count": 346,
     "metadata": {},
     "output_type": "execute_result"
    }
   ],
   "source": [
    "lin_reg.predict(X_new)  # y예측값 "
   ]
  },
  {
   "cell_type": "code",
   "execution_count": 347,
   "metadata": {
    "collapsed": true
   },
   "outputs": [],
   "source": [
    "theta_best_svd, residuals, rank, s = np.linalg.lstsq(X_b, y, rcond=1e-6)  # ??????"
   ]
  },
  {
   "cell_type": "code",
   "execution_count": 348,
   "metadata": {
    "scrolled": true
   },
   "outputs": [
    {
     "data": {
      "text/plain": [
       "array([[4.30382837],\n",
       "       [2.77805301]])"
      ]
     },
     "execution_count": 348,
     "metadata": {},
     "output_type": "execute_result"
    }
   ],
   "source": [
    "theta_best_svd"
   ]
  },
  {
   "cell_type": "code",
   "execution_count": 349,
   "metadata": {},
   "outputs": [
    {
     "data": {
      "text/plain": [
       "array([[4.30382837],\n",
       "       [2.77805301]])"
      ]
     },
     "execution_count": 349,
     "metadata": {},
     "output_type": "execute_result"
    }
   ],
   "source": [
    "np.linalg.pinv(X_b).dot(y)"
   ]
  },
  {
   "cell_type": "markdown",
   "metadata": {},
   "source": [
    "경사 하강법을 사용한 선형회귀 접근"
   ]
  },
  {
   "cell_type": "code",
   "execution_count": 350,
   "metadata": {
    "collapsed": true
   },
   "outputs": [],
   "source": [
    "eta = 0.1   #learning data\n",
    "n_iterations = 1000\n",
    "m = 100  #data 개수\n",
    "theta = np.random.randn(2,1)   #초기값\n",
    "\n",
    "for iteration in range(n_iterations):\n",
    "    gradients = 2/m * X_b.T.dot(X_b.dot(theta) - y)   # 손실함수 미분한거.\n",
    "    theta = theta - eta * gradients"
   ]
  },
  {
   "cell_type": "code",
   "execution_count": 351,
   "metadata": {},
   "outputs": [
    {
     "data": {
      "text/plain": [
       "array([[4.30382837],\n",
       "       [2.77805301]])"
      ]
     },
     "execution_count": 351,
     "metadata": {},
     "output_type": "execute_result"
    }
   ],
   "source": [
    "theta"
   ]
  },
  {
   "cell_type": "code",
   "execution_count": 352,
   "metadata": {
    "scrolled": true
   },
   "outputs": [
    {
     "data": {
      "text/plain": [
       "array([[4.30382837],\n",
       "       [9.85993439]])"
      ]
     },
     "execution_count": 352,
     "metadata": {},
     "output_type": "execute_result"
    }
   ],
   "source": [
    "X_new_b.dot(theta)"
   ]
  },
  {
   "cell_type": "code",
   "execution_count": 353,
   "metadata": {
    "collapsed": true
   },
   "outputs": [],
   "source": [
    "theta_path_bgd = []\n",
    "\n",
    "def plot_gradient_descent(theta, eta, theta_path=None):\n",
    "    m = len(X_b)\n",
    "    plt.plot(X, y, \"b.\")\n",
    "    n_iterations = 1000\n",
    "    for iteration in range(n_iterations):\n",
    "        if iteration < 10:\n",
    "            y_predict = X_new_b.dot(theta)\n",
    "            style = \"b-\" if iteration > 0 else \"r--\"\n",
    "            plt.plot(X_new, y_predict, style)\n",
    "        gradients = 2/m * X_b.T.dot(X_b.dot(theta) - y)\n",
    "        theta = theta - eta * gradients\n",
    "        if theta_path is not None:\n",
    "            theta_path.append(theta)\n",
    "    plt.xlabel(\"$x_1$\", fontsize=18)\n",
    "    plt.axis([0, 2, 0, 15])\n",
    "    plt.title(r\"$\\eta = {}$\".format(eta), fontsize=16)"
   ]
  },
  {
   "cell_type": "code",
   "execution_count": 354,
   "metadata": {},
   "outputs": [
    {
     "data": {
      "image/png": "[encoded data removed]",
      "text/plain": [
       "<Figure size 720x288 with 3 Axes>"
      ]
     },
     "metadata": {},
     "output_type": "display_data"
    }
   ],
   "source": [
    "np.random.seed(42)\n",
    "theta = np.random.randn(2,1)  # random initialization\n",
    "plt.figure(figsize=(10,4))\n",
    "plt.subplot(131); plot_gradient_descent(theta, eta=0.02)\n",
    "plt.ylabel(\"$y$\", rotation=0, fontsize=18)\n",
    "plt.subplot(132); plot_gradient_descent(theta, eta=0.1, theta_path=theta_path_bgd)\n",
    "plt.subplot(133); plot_gradient_descent(theta, eta=0.5)\n",
    "plt.show()"
   ]
  },
  {
   "cell_type": "markdown",
   "metadata": {},
   "source": [
    "스토캐스틱 경사 하강법을 사용한 선형회귀 접근"
   ]
  },
  {
   "cell_type": "code",
   "execution_count": 355,
   "metadata": {},
   "outputs": [
    {
     "data": {
      "image/png": "[encoded data removed]",
      "text/plain": [
       "<Figure size 432x288 with 1 Axes>"
      ]
     },
     "metadata": {},
     "output_type": "display_data"
    }
   ],
   "source": [
    "theta_path_sgd = []\n",
    "m = len(X_b)\n",
    "np.random.seed(42)\n",
    "\n",
    "n_epochs = 50\n",
    "t0, t1 = 5, 50  # learning schedule hyperparameters\n",
    "\n",
    "def learning_schedule(t):\n",
    "    return t0 / (t + t1)\n",
    "\n",
    "theta = np.random.randn(2,1)  # random initialization\n",
    "\n",
    "for epoch in range(n_epochs):\n",
    "    for i in range(m):\n",
    "        if epoch == 0 and i < 20: \n",
    "            y_predict = X_new_b.dot(theta)\n",
    "            style = \"b-\" if i > 0 else \"r--\" \n",
    "            plt.plot(X_new, y_predict, style)\n",
    "        random_index = np.random.randint(m)\n",
    "        xi = X_b[random_index:random_index+1]\n",
    "        yi = y[random_index:random_index+1]\n",
    "        gradients = 2 * xi.T.dot(xi.dot(theta) - yi)\n",
    "        eta = learning_schedule(epoch * m + i)\n",
    "        theta = theta - eta * gradients\n",
    "        theta_path_sgd.append(theta)\n",
    "        \n",
    "plt.plot(X, y, \"b.\")\n",
    "plt.xlabel(\"$x_1$\", fontsize=18)\n",
    "plt.ylabel(\"$y$\", rotation=0, fontsize=18)\n",
    "plt.axis([0, 2, 0, 15])\n",
    "plt.show()\n"
   ]
  },
  {
   "cell_type": "code",
   "execution_count": 356,
   "metadata": {},
   "outputs": [
    {
     "data": {
      "text/plain": [
       "array([[4.31367004],\n",
       "       [2.78186665]])"
      ]
     },
     "execution_count": 356,
     "metadata": {},
     "output_type": "execute_result"
    }
   ],
   "source": [
    "theta"
   ]
  },
  {
   "cell_type": "code",
   "execution_count": 357,
   "metadata": {
    "collapsed": true
   },
   "outputs": [],
   "source": [
    "from sklearn.linear_model import SGDRegressor\n",
    "sgd_reg = SGDRegressor(max_iter=50, penalty=None, eta0=0.1, random_state=42)"
   ]
  },
  {
   "cell_type": "code",
   "execution_count": 358,
   "metadata": {},
   "outputs": [
    {
     "data": {
      "text/plain": [
       "SGDRegressor(alpha=0.0001, average=False, epsilon=0.1, eta0=0.1,\n",
       "       fit_intercept=True, l1_ratio=0.15, learning_rate='invscaling',\n",
       "       loss='squared_loss', max_iter=50, n_iter=None, penalty=None,\n",
       "       power_t=0.25, random_state=42, shuffle=True, tol=None, verbose=0,\n",
       "       warm_start=False)"
      ]
     },
     "execution_count": 358,
     "metadata": {},
     "output_type": "execute_result"
    }
   ],
   "source": [
    "sgd_reg.fit(X, y.ravel())"
   ]
  },
  {
   "cell_type": "code",
   "execution_count": 359,
   "metadata": {},
   "outputs": [
    {
     "data": {
      "text/plain": [
       "array([4.32433554])"
      ]
     },
     "execution_count": 359,
     "metadata": {},
     "output_type": "execute_result"
    }
   ],
   "source": [
    "sgd_reg.intercept_"
   ]
  },
  {
   "cell_type": "code",
   "execution_count": 360,
   "metadata": {},
   "outputs": [
    {
     "data": {
      "text/plain": [
       "array([2.79915787])"
      ]
     },
     "execution_count": 360,
     "metadata": {},
     "output_type": "execute_result"
    }
   ],
   "source": [
    "sgd_reg.coef_"
   ]
  },
  {
   "cell_type": "markdown",
   "metadata": {},
   "source": [
    "미니배치 경사 하강법을 사용한 선형회귀 접근"
   ]
  },
  {
   "cell_type": "code",
   "execution_count": 361,
   "metadata": {
    "collapsed": true
   },
   "outputs": [],
   "source": [
    "theta_path_mgd = []\n",
    "\n",
    "n_iterations = 50\n",
    "minibatch_size = 20\n",
    "\n",
    "np.random.seed(42)\n",
    "theta = np.random.randn(2,1)  # random initialization\n",
    "\n",
    "t0, t1 = 200, 1000\n",
    "\n",
    "def learning_schedule(t):\n",
    "    return t0 / (t + t1)\n",
    "\n",
    "t = 0\n",
    "for epoch in range(n_iterations):\n",
    "    shuffled_indices = np.random.permutation(m)\n",
    "    X_b_shuffled = X_b[shuffled_indices]\n",
    "    y_shuffled = y[shuffled_indices]\n",
    "    for i in range(0, m, minibatch_size):\n",
    "        t += 1\n",
    "        xi = X_b_shuffled[i:i+minibatch_size]\n",
    "        yi = y_shuffled[i:i+minibatch_size]\n",
    "        gradients = 2/minibatch_size * xi.T.dot(xi.dot(theta) - yi)\n",
    "        eta = learning_schedule(t)\n",
    "        theta = theta - eta * gradients\n",
    "        theta_path_mgd.append(theta)"
   ]
  },
  {
   "cell_type": "code",
   "execution_count": 362,
   "metadata": {},
   "outputs": [
    {
     "data": {
      "text/plain": [
       "array([[4.32539128],\n",
       "       [2.83610849]])"
      ]
     },
     "execution_count": 362,
     "metadata": {},
     "output_type": "execute_result"
    }
   ],
   "source": [
    "theta"
   ]
  },
  {
   "cell_type": "code",
   "execution_count": 363,
   "metadata": {
    "collapsed": true
   },
   "outputs": [],
   "source": [
    "theta_path_bgd = np.array(theta_path_bgd)\n",
    "theta_path_sgd = np.array(theta_path_sgd)\n",
    "theta_path_mgd = np.array(theta_path_mgd)"
   ]
  },
  {
   "cell_type": "code",
   "execution_count": 364,
   "metadata": {},
   "outputs": [
    {
     "data": {
      "image/png": "[encoded data removed]",
      "text/plain": [
       "<Figure size 504x288 with 1 Axes>"
      ]
     },
     "metadata": {},
     "output_type": "display_data"
    }
   ],
   "source": [
    "plt.figure(figsize=(7,4))\n",
    "plt.plot(theta_path_sgd[:, 0], theta_path_sgd[:, 1], \"r-s\", linewidth=1, label=\"SGD\")\n",
    "plt.plot(theta_path_mgd[:, 0], theta_path_mgd[:, 1], \"g-+\", linewidth=2, label=\"MINI_BATCH\")\n",
    "plt.plot(theta_path_bgd[:, 0], theta_path_bgd[:, 1], \"b-o\", linewidth=3, label=\"BATCH\")\n",
    "plt.legend(loc=\"upper left\", fontsize=16)\n",
    "plt.xlabel(r\"$\\theta_0$\", fontsize=20)\n",
    "plt.ylabel(r\"$\\theta_1$   \", fontsize=20, rotation=0)\n",
    "plt.axis([2.5, 4.5, 2.3, 3.9])\n",
    "plt.show()"
   ]
  },
  {
   "cell_type": "code",
   "execution_count": 365,
   "metadata": {},
   "outputs": [
    {
     "data": {
      "text/plain": [
       "array([[[3.14046417],\n",
       "        [2.73642931]],\n",
       "\n",
       "       [[3.50768872],\n",
       "        [3.07506929]],\n",
       "\n",
       "       [[3.76401006],\n",
       "        [3.23368568]],\n",
       "\n",
       "       [[3.84428254],\n",
       "        [3.27868858]],\n",
       "\n",
       "       [[3.79414821],\n",
       "        [3.2629063 ]],\n",
       "\n",
       "       [[3.80248957],\n",
       "        [3.20094748]],\n",
       "\n",
       "       [[3.81802471],\n",
       "        [3.16288816]],\n",
       "\n",
       "       [[3.81091645],\n",
       "        [3.07683166]],\n",
       "\n",
       "       [[3.99432874],\n",
       "        [3.26129542]],\n",
       "\n",
       "       [[3.88574455],\n",
       "        [3.09660409]],\n",
       "\n",
       "       [[4.09867367],\n",
       "        [3.22430054]],\n",
       "\n",
       "       [[3.93531595],\n",
       "        [3.0393982 ]],\n",
       "\n",
       "       [[3.89211996],\n",
       "        [2.95729518]],\n",
       "\n",
       "       [[3.94007889],\n",
       "        [3.02559578]],\n",
       "\n",
       "       [[4.02489799],\n",
       "        [3.08411739]],\n",
       "\n",
       "       [[4.03275804],\n",
       "        [3.05610121]],\n",
       "\n",
       "       [[3.98289128],\n",
       "        [2.92088456]],\n",
       "\n",
       "       [[4.11738203],\n",
       "        [3.09628475]],\n",
       "\n",
       "       [[4.06918996],\n",
       "        [3.01123413]],\n",
       "\n",
       "       [[4.03038952],\n",
       "        [2.92768239]],\n",
       "\n",
       "       [[4.07937746],\n",
       "        [3.02860114]],\n",
       "\n",
       "       [[4.04506567],\n",
       "        [2.94605501]],\n",
       "\n",
       "       [[4.12852555],\n",
       "        [2.96615312]],\n",
       "\n",
       "       [[4.08061823],\n",
       "        [2.91444689]],\n",
       "\n",
       "       [[4.13630414],\n",
       "        [2.93219918]],\n",
       "\n",
       "       [[4.20307406],\n",
       "        [2.97520369]],\n",
       "\n",
       "       [[4.1875419 ],\n",
       "        [2.99182471]],\n",
       "\n",
       "       [[4.10935324],\n",
       "        [2.84631963]],\n",
       "\n",
       "       [[4.11014109],\n",
       "        [2.81022935]],\n",
       "\n",
       "       [[4.16991742],\n",
       "        [2.87284865]],\n",
       "\n",
       "       [[4.09357219],\n",
       "        [2.75485136]],\n",
       "\n",
       "       [[4.11320179],\n",
       "        [2.80118917]],\n",
       "\n",
       "       [[4.19750718],\n",
       "        [2.87326029]],\n",
       "\n",
       "       [[4.28563848],\n",
       "        [3.0152235 ]],\n",
       "\n",
       "       [[4.26739054],\n",
       "        [2.92701765]],\n",
       "\n",
       "       [[4.18686166],\n",
       "        [2.85151788]],\n",
       "\n",
       "       [[4.17171444],\n",
       "        [2.782249  ]],\n",
       "\n",
       "       [[4.25327934],\n",
       "        [2.87850584]],\n",
       "\n",
       "       [[4.26714479],\n",
       "        [2.83921558]],\n",
       "\n",
       "       [[4.25499177],\n",
       "        [2.84812782]],\n",
       "\n",
       "       [[4.25323814],\n",
       "        [2.90284179]],\n",
       "\n",
       "       [[4.17097891],\n",
       "        [2.82216425]],\n",
       "\n",
       "       [[4.27206497],\n",
       "        [2.90168901]],\n",
       "\n",
       "       [[4.2428524 ],\n",
       "        [2.80691854]],\n",
       "\n",
       "       [[4.2263672 ],\n",
       "        [2.76622709]],\n",
       "\n",
       "       [[4.18617255],\n",
       "        [2.7022536 ]],\n",
       "\n",
       "       [[4.33895433],\n",
       "        [2.83837616]],\n",
       "\n",
       "       [[4.2914874 ],\n",
       "        [2.74623764]],\n",
       "\n",
       "       [[4.32845941],\n",
       "        [2.85401407]],\n",
       "\n",
       "       [[4.28051711],\n",
       "        [2.83493774]],\n",
       "\n",
       "       [[4.26064122],\n",
       "        [2.79462124]],\n",
       "\n",
       "       [[4.24166469],\n",
       "        [2.75467821]],\n",
       "\n",
       "       [[4.26256254],\n",
       "        [2.77297315]],\n",
       "\n",
       "       [[4.27872049],\n",
       "        [2.78710709]],\n",
       "\n",
       "       [[4.33060716],\n",
       "        [2.8725982 ]],\n",
       "\n",
       "       [[4.24245877],\n",
       "        [2.73004278]],\n",
       "\n",
       "       [[4.35016996],\n",
       "        [2.83979664]],\n",
       "\n",
       "       [[4.28085878],\n",
       "        [2.75679222]],\n",
       "\n",
       "       [[4.27661491],\n",
       "        [2.78368122]],\n",
       "\n",
       "       [[4.30822504],\n",
       "        [2.83421183]],\n",
       "\n",
       "       [[4.28656432],\n",
       "        [2.78618133]],\n",
       "\n",
       "       [[4.30736639],\n",
       "        [2.75184634]],\n",
       "\n",
       "       [[4.37233567],\n",
       "        [2.85002631]],\n",
       "\n",
       "       [[4.25753704],\n",
       "        [2.73993755]],\n",
       "\n",
       "       [[4.27132936],\n",
       "        [2.77757305]],\n",
       "\n",
       "       [[4.29408582],\n",
       "        [2.7113953 ]],\n",
       "\n",
       "       [[4.26955246],\n",
       "        [2.71331206]],\n",
       "\n",
       "       [[4.27172488],\n",
       "        [2.76760082]],\n",
       "\n",
       "       [[4.34028783],\n",
       "        [2.87547742]],\n",
       "\n",
       "       [[4.31724067],\n",
       "        [2.83099585]],\n",
       "\n",
       "       [[4.19204229],\n",
       "        [2.70538884]],\n",
       "\n",
       "       [[4.28502018],\n",
       "        [2.74749217]],\n",
       "\n",
       "       [[4.30018609],\n",
       "        [2.72808123]],\n",
       "\n",
       "       [[4.31948435],\n",
       "        [2.87298839]],\n",
       "\n",
       "       [[4.35040973],\n",
       "        [2.84841665]],\n",
       "\n",
       "       [[4.30242698],\n",
       "        [2.7497797 ]],\n",
       "\n",
       "       [[4.21028187],\n",
       "        [2.69841964]],\n",
       "\n",
       "       [[4.29208666],\n",
       "        [2.7967371 ]],\n",
       "\n",
       "       [[4.37810811],\n",
       "        [2.84427115]],\n",
       "\n",
       "       [[4.32059314],\n",
       "        [2.80729091]],\n",
       "\n",
       "       [[4.23411859],\n",
       "        [2.75338433]],\n",
       "\n",
       "       [[4.29029688],\n",
       "        [2.76458557]],\n",
       "\n",
       "       [[4.35026371],\n",
       "        [2.84304631]],\n",
       "\n",
       "       [[4.30581705],\n",
       "        [2.75923108]],\n",
       "\n",
       "       [[4.30791238],\n",
       "        [2.77439535]],\n",
       "\n",
       "       [[4.26512692],\n",
       "        [2.69470754]],\n",
       "\n",
       "       [[4.34863112],\n",
       "        [2.7938132 ]],\n",
       "\n",
       "       [[4.29112493],\n",
       "        [2.7840782 ]],\n",
       "\n",
       "       [[4.36400256],\n",
       "        [2.86034279]],\n",
       "\n",
       "       [[4.27908516],\n",
       "        [2.74160926]],\n",
       "\n",
       "       [[4.32053845],\n",
       "        [2.76995142]],\n",
       "\n",
       "       [[4.32800629],\n",
       "        [2.72507374]],\n",
       "\n",
       "       [[4.29339687],\n",
       "        [2.73028895]],\n",
       "\n",
       "       [[4.28427096],\n",
       "        [2.77179063]],\n",
       "\n",
       "       [[4.34119171],\n",
       "        [2.82647464]],\n",
       "\n",
       "       [[4.14963704],\n",
       "        [2.60208121]],\n",
       "\n",
       "       [[4.22789076],\n",
       "        [2.65410266]],\n",
       "\n",
       "       [[4.33616351],\n",
       "        [2.76865787]],\n",
       "\n",
       "       [[4.44084464],\n",
       "        [2.91416179]],\n",
       "\n",
       "       [[4.39893976],\n",
       "        [2.89938522]],\n",
       "\n",
       "       [[4.3104541 ],\n",
       "        [2.85491178]],\n",
       "\n",
       "       [[4.23280353],\n",
       "        [2.76617958]],\n",
       "\n",
       "       [[4.22665088],\n",
       "        [2.73752712]],\n",
       "\n",
       "       [[4.33855556],\n",
       "        [2.83296325]],\n",
       "\n",
       "       [[4.3311676 ],\n",
       "        [2.81950025]],\n",
       "\n",
       "       [[4.34764288],\n",
       "        [2.91779283]],\n",
       "\n",
       "       [[4.24882907],\n",
       "        [2.82139386]],\n",
       "\n",
       "       [[4.22538312],\n",
       "        [2.77053244]],\n",
       "\n",
       "       [[4.27897892],\n",
       "        [2.80177852]],\n",
       "\n",
       "       [[4.28899655],\n",
       "        [2.77645951]],\n",
       "\n",
       "       [[4.26424237],\n",
       "        [2.70715509]],\n",
       "\n",
       "       [[4.32188642],\n",
       "        [2.75658528]],\n",
       "\n",
       "       [[4.36690331],\n",
       "        [2.83175536]],\n",
       "\n",
       "       [[4.32581663],\n",
       "        [2.79750091]],\n",
       "\n",
       "       [[4.27380657],\n",
       "        [2.75244929]],\n",
       "\n",
       "       [[4.29472948],\n",
       "        [2.7056417 ]],\n",
       "\n",
       "       [[4.39997253],\n",
       "        [2.81740227]],\n",
       "\n",
       "       [[4.31841103],\n",
       "        [2.75321332]],\n",
       "\n",
       "       [[4.31932296],\n",
       "        [2.82650763]],\n",
       "\n",
       "       [[4.25672967],\n",
       "        [2.7366854 ]],\n",
       "\n",
       "       [[4.30322716],\n",
       "        [2.77122308]],\n",
       "\n",
       "       [[4.38684712],\n",
       "        [2.9282245 ]],\n",
       "\n",
       "       [[4.36515522],\n",
       "        [2.90405322]],\n",
       "\n",
       "       [[4.17470201],\n",
       "        [2.62062814]],\n",
       "\n",
       "       [[4.24790239],\n",
       "        [2.73242341]],\n",
       "\n",
       "       [[4.30029659],\n",
       "        [2.77914118]],\n",
       "\n",
       "       [[4.3001455 ],\n",
       "        [2.75294854]],\n",
       "\n",
       "       [[4.32121874],\n",
       "        [2.82104694]],\n",
       "\n",
       "       [[4.24814489],\n",
       "        [2.74665613]],\n",
       "\n",
       "       [[4.29977067],\n",
       "        [2.78542656]],\n",
       "\n",
       "       [[4.24062983],\n",
       "        [2.73898013]],\n",
       "\n",
       "       [[4.25858654],\n",
       "        [2.75559034]],\n",
       "\n",
       "       [[4.2219396 ],\n",
       "        [2.72796542]],\n",
       "\n",
       "       [[4.34893622],\n",
       "        [2.88753664]],\n",
       "\n",
       "       [[4.35006078],\n",
       "        [2.84211653]],\n",
       "\n",
       "       [[4.22268813],\n",
       "        [2.72465696]],\n",
       "\n",
       "       [[4.27206368],\n",
       "        [2.80444008]],\n",
       "\n",
       "       [[4.3732885 ],\n",
       "        [2.92203964]],\n",
       "\n",
       "       [[4.2965944 ],\n",
       "        [2.79323509]],\n",
       "\n",
       "       [[4.28484036],\n",
       "        [2.76414738]],\n",
       "\n",
       "       [[4.26186341],\n",
       "        [2.74228659]],\n",
       "\n",
       "       [[4.28819994],\n",
       "        [2.71890098]],\n",
       "\n",
       "       [[4.31882999],\n",
       "        [2.80963017]],\n",
       "\n",
       "       [[4.28094256],\n",
       "        [2.74610545]],\n",
       "\n",
       "       [[4.35156287],\n",
       "        [2.83961409]],\n",
       "\n",
       "       [[4.3648451 ],\n",
       "        [2.84415379]],\n",
       "\n",
       "       [[4.25736857],\n",
       "        [2.68007129]],\n",
       "\n",
       "       [[4.31733364],\n",
       "        [2.7370805 ]],\n",
       "\n",
       "       [[4.32504032],\n",
       "        [2.77599809]],\n",
       "\n",
       "       [[4.32893181],\n",
       "        [2.82302102]],\n",
       "\n",
       "       [[4.35528631],\n",
       "        [2.86966444]],\n",
       "\n",
       "       [[4.20838097],\n",
       "        [2.6525935 ]],\n",
       "\n",
       "       [[4.25493958],\n",
       "        [2.72748528]],\n",
       "\n",
       "       [[4.27665145],\n",
       "        [2.69651782]],\n",
       "\n",
       "       [[4.40896193],\n",
       "        [2.92549089]],\n",
       "\n",
       "       [[4.28901701],\n",
       "        [2.76376293]],\n",
       "\n",
       "       [[4.26022368],\n",
       "        [2.79596342]],\n",
       "\n",
       "       [[4.28682288],\n",
       "        [2.72492334]],\n",
       "\n",
       "       [[4.30076992],\n",
       "        [2.7603822 ]],\n",
       "\n",
       "       [[4.35512644],\n",
       "        [2.84163673]],\n",
       "\n",
       "       [[4.25162496],\n",
       "        [2.67552504]],\n",
       "\n",
       "       [[4.32708854],\n",
       "        [2.80695469]],\n",
       "\n",
       "       [[4.30061101],\n",
       "        [2.78972435]],\n",
       "\n",
       "       [[4.29839475],\n",
       "        [2.78601626]],\n",
       "\n",
       "       [[4.34860582],\n",
       "        [2.83018846]],\n",
       "\n",
       "       [[4.33145196],\n",
       "        [2.81360806]],\n",
       "\n",
       "       [[4.31284318],\n",
       "        [2.72083351]],\n",
       "\n",
       "       [[4.32902261],\n",
       "        [2.78271463]],\n",
       "\n",
       "       [[4.31000727],\n",
       "        [2.76379723]],\n",
       "\n",
       "       [[4.30522029],\n",
       "        [2.78859623]],\n",
       "\n",
       "       [[4.27421154],\n",
       "        [2.74767582]],\n",
       "\n",
       "       [[4.21135645],\n",
       "        [2.69796035]],\n",
       "\n",
       "       [[4.32187139],\n",
       "        [2.80546621]],\n",
       "\n",
       "       [[4.40420566],\n",
       "        [2.84413215]],\n",
       "\n",
       "       [[4.30808165],\n",
       "        [2.78765549]],\n",
       "\n",
       "       [[4.36530054],\n",
       "        [2.80811312]],\n",
       "\n",
       "       [[4.29632889],\n",
       "        [2.68949763]],\n",
       "\n",
       "       [[4.2966488 ],\n",
       "        [2.69905042]],\n",
       "\n",
       "       [[4.37915038],\n",
       "        [2.82055066]],\n",
       "\n",
       "       [[4.29149781],\n",
       "        [2.77692677]],\n",
       "\n",
       "       [[4.28934434],\n",
       "        [2.73608261]],\n",
       "\n",
       "       [[4.35956218],\n",
       "        [2.86917994]],\n",
       "\n",
       "       [[4.23310232],\n",
       "        [2.67888555]],\n",
       "\n",
       "       [[4.23712291],\n",
       "        [2.69397014]],\n",
       "\n",
       "       [[4.36209261],\n",
       "        [2.84228745]],\n",
       "\n",
       "       [[4.39271464],\n",
       "        [2.89303147]],\n",
       "\n",
       "       [[4.32228139],\n",
       "        [2.80989697]],\n",
       "\n",
       "       [[4.34557656],\n",
       "        [2.78004846]],\n",
       "\n",
       "       [[4.22020354],\n",
       "        [2.65566225]],\n",
       "\n",
       "       [[4.29758575],\n",
       "        [2.78668178]],\n",
       "\n",
       "       [[4.33848575],\n",
       "        [2.8526638 ]],\n",
       "\n",
       "       [[4.31069519],\n",
       "        [2.8361361 ]],\n",
       "\n",
       "       [[4.34598341],\n",
       "        [2.8508489 ]],\n",
       "\n",
       "       [[4.29459538],\n",
       "        [2.79625218]],\n",
       "\n",
       "       [[4.20207587],\n",
       "        [2.67257402]],\n",
       "\n",
       "       [[4.3231251 ],\n",
       "        [2.77992142]],\n",
       "\n",
       "       [[4.29366634],\n",
       "        [2.77374427]],\n",
       "\n",
       "       [[4.33410903],\n",
       "        [2.80863084]],\n",
       "\n",
       "       [[4.2242272 ],\n",
       "        [2.69904251]],\n",
       "\n",
       "       [[4.29209283],\n",
       "        [2.76195909]],\n",
       "\n",
       "       [[4.25122574],\n",
       "        [2.71351368]],\n",
       "\n",
       "       [[4.28530725],\n",
       "        [2.77366735]],\n",
       "\n",
       "       [[4.27038188],\n",
       "        [2.77832973]],\n",
       "\n",
       "       [[4.29907175],\n",
       "        [2.8188889 ]],\n",
       "\n",
       "       [[4.34835751],\n",
       "        [2.82681989]],\n",
       "\n",
       "       [[4.34859772],\n",
       "        [2.79545728]],\n",
       "\n",
       "       [[4.37710432],\n",
       "        [2.91021672]],\n",
       "\n",
       "       [[4.22963832],\n",
       "        [2.73078147]],\n",
       "\n",
       "       [[4.29240691],\n",
       "        [2.77361484]],\n",
       "\n",
       "       [[4.28186711],\n",
       "        [2.75826289]],\n",
       "\n",
       "       [[4.35600915],\n",
       "        [2.89505365]],\n",
       "\n",
       "       [[4.34780182],\n",
       "        [2.87981089]],\n",
       "\n",
       "       [[4.25604334],\n",
       "        [2.73191292]],\n",
       "\n",
       "       [[4.29209214],\n",
       "        [2.76567844]],\n",
       "\n",
       "       [[4.24039742],\n",
       "        [2.71919605]],\n",
       "\n",
       "       [[4.25685421],\n",
       "        [2.74247574]],\n",
       "\n",
       "       [[4.28892896],\n",
       "        [2.7693811 ]],\n",
       "\n",
       "       [[4.30745345],\n",
       "        [2.74251912]],\n",
       "\n",
       "       [[4.28719478],\n",
       "        [2.73418604]],\n",
       "\n",
       "       [[4.34503701],\n",
       "        [2.84385971]],\n",
       "\n",
       "       [[4.35567796],\n",
       "        [2.92588001]],\n",
       "\n",
       "       [[4.26930301],\n",
       "        [2.79077885]],\n",
       "\n",
       "       [[4.2119838 ],\n",
       "        [2.67756704]],\n",
       "\n",
       "       [[4.37601364],\n",
       "        [2.88585577]],\n",
       "\n",
       "       [[4.26229547],\n",
       "        [2.74714226]],\n",
       "\n",
       "       [[4.21054167],\n",
       "        [2.63823609]],\n",
       "\n",
       "       [[4.30998533],\n",
       "        [2.86176125]],\n",
       "\n",
       "       [[4.32549775],\n",
       "        [2.85928504]],\n",
       "\n",
       "       [[4.26517407],\n",
       "        [2.77885385]],\n",
       "\n",
       "       [[4.3232191 ],\n",
       "        [2.82792611]],\n",
       "\n",
       "       [[4.25388997],\n",
       "        [2.74670109]],\n",
       "\n",
       "       [[4.31092738],\n",
       "        [2.81469954]],\n",
       "\n",
       "       [[4.31467897],\n",
       "        [2.84501282]],\n",
       "\n",
       "       [[4.22919327],\n",
       "        [2.76904658]],\n",
       "\n",
       "       [[4.31701345],\n",
       "        [2.81683987]],\n",
       "\n",
       "       [[4.28443848],\n",
       "        [2.74142731]],\n",
       "\n",
       "       [[4.36850887],\n",
       "        [2.85110092]],\n",
       "\n",
       "       [[4.34197336],\n",
       "        [2.82329442]],\n",
       "\n",
       "       [[4.26907934],\n",
       "        [2.75839094]],\n",
       "\n",
       "       [[4.26888128],\n",
       "        [2.76649248]],\n",
       "\n",
       "       [[4.30144123],\n",
       "        [2.7807824 ]],\n",
       "\n",
       "       [[4.28693764],\n",
       "        [2.75939529]],\n",
       "\n",
       "       [[4.26100392],\n",
       "        [2.72153848]],\n",
       "\n",
       "       [[4.23727461],\n",
       "        [2.72280221]],\n",
       "\n",
       "       [[4.36883321],\n",
       "        [2.88550242]],\n",
       "\n",
       "       [[4.2959089 ],\n",
       "        [2.77041652]],\n",
       "\n",
       "       [[4.22655775],\n",
       "        [2.6996543 ]],\n",
       "\n",
       "       [[4.35199426],\n",
       "        [2.85070143]],\n",
       "\n",
       "       [[4.31695913],\n",
       "        [2.79539322]],\n",
       "\n",
       "       [[4.32539128],\n",
       "        [2.83610849]]])"
      ]
     },
     "execution_count": 365,
     "metadata": {},
     "output_type": "execute_result"
    }
   ],
   "source": [
    "theta_path_mgd"
   ]
  },
  {
   "cell_type": "code",
   "execution_count": 366,
   "metadata": {
    "scrolled": true
   },
   "outputs": [
    {
     "data": {
      "text/plain": [
       "array([[[1.84539516],\n",
       "        [1.40592671]],\n",
       "\n",
       "       [[2.61338657],\n",
       "        [2.26681941]],\n",
       "\n",
       "       [[3.05442192],\n",
       "        [2.74352923]],\n",
       "\n",
       "       ...,\n",
       "\n",
       "       [[4.30382837],\n",
       "        [2.77805301]],\n",
       "\n",
       "       [[4.30382837],\n",
       "        [2.77805301]],\n",
       "\n",
       "       [[4.30382837],\n",
       "        [2.77805301]]])"
      ]
     },
     "execution_count": 366,
     "metadata": {},
     "output_type": "execute_result"
    }
   ],
   "source": [
    "theta_path_bgd"
   ]
  },
  {
   "cell_type": "code",
   "execution_count": 367,
   "metadata": {},
   "outputs": [
    {
     "data": {
      "text/plain": [
       "array([[[1.30216376],\n",
       "        [0.14089538]],\n",
       "\n",
       "       [[2.53241268],\n",
       "        [1.41125127]],\n",
       "\n",
       "       [[3.2945944 ],\n",
       "        [2.47375658]],\n",
       "\n",
       "       ...,\n",
       "\n",
       "       [[4.31268542],\n",
       "        [2.78079394]],\n",
       "\n",
       "       [[4.31375076],\n",
       "        [2.78189402]],\n",
       "\n",
       "       [[4.31367004],\n",
       "        [2.78186665]]])"
      ]
     },
     "execution_count": 367,
     "metadata": {},
     "output_type": "execute_result"
    }
   ],
   "source": [
    "theta_path_sgd"
   ]
  },
  {
   "cell_type": "markdown",
   "metadata": {},
   "source": [
    "# 2번 - Polynomial regression"
   ]
  },
  {
   "cell_type": "code",
   "execution_count": 368,
   "metadata": {
    "collapsed": true
   },
   "outputs": [],
   "source": [
    "import numpy as np\n",
    "import numpy.random as rnd"
   ]
  },
  {
   "cell_type": "code",
   "execution_count": 369,
   "metadata": {
    "collapsed": true
   },
   "outputs": [],
   "source": [
    "np.random.seed(42)\n",
    "m = 100\n",
    "X = 6 * np.random.rand(m, 1) - 3  #-3 ~ +3\n",
    "y = 0.5 * X**2 + X + 2 + np.random.randn(m, 1)"
   ]
  },
  {
   "cell_type": "code",
   "execution_count": 370,
   "metadata": {},
   "outputs": [
    {
     "data": {
      "image/png": "[encoded data removed]",
      "text/plain": [
       "<Figure size 432x288 with 1 Axes>"
      ]
     },
     "metadata": {},
     "output_type": "display_data"
    }
   ],
   "source": [
    "plt.plot(X, y, \"b.\")\n",
    "plt.xlabel(\"$x_1$\", fontsize=18)\n",
    "plt.ylabel(\"$y$\", rotation=0, fontsize=18)\n",
    "plt.axis([-3, 3, 0, 10])\n",
    "plt.show()"
   ]
  },
  {
   "cell_type": "code",
   "execution_count": 371,
   "metadata": {
    "collapsed": true
   },
   "outputs": [],
   "source": [
    "from sklearn.preprocessing import PolynomialFeatures\n",
    "poly_features = PolynomialFeatures(degree=2, include_bias=False)\n",
    "X_poly = poly_features.fit_transform(X)"
   ]
  },
  {
   "cell_type": "code",
   "execution_count": 372,
   "metadata": {},
   "outputs": [
    {
     "data": {
      "text/plain": [
       "array([-0.75275929])"
      ]
     },
     "execution_count": 372,
     "metadata": {},
     "output_type": "execute_result"
    }
   ],
   "source": [
    "X[0]"
   ]
  },
  {
   "cell_type": "code",
   "execution_count": 373,
   "metadata": {},
   "outputs": [
    {
     "data": {
      "text/plain": [
       "array([-0.75275929,  0.56664654])"
      ]
     },
     "execution_count": 373,
     "metadata": {},
     "output_type": "execute_result"
    }
   ],
   "source": [
    "X_poly[0]  # X[0]이 들어왔을때 x값과 x^2값."
   ]
  },
  {
   "cell_type": "code",
   "execution_count": 374,
   "metadata": {},
   "outputs": [
    {
     "data": {
      "text/plain": [
       "LinearRegression(copy_X=True, fit_intercept=True, n_jobs=1, normalize=False)"
      ]
     },
     "execution_count": 374,
     "metadata": {},
     "output_type": "execute_result"
    }
   ],
   "source": [
    "lin_reg = LinearRegression()\n",
    "lin_reg.fit(X_poly, y)"
   ]
  },
  {
   "cell_type": "code",
   "execution_count": 375,
   "metadata": {},
   "outputs": [
    {
     "data": {
      "text/plain": [
       "(array([1.78134581]), array([[0.93366893, 0.56456263]]))"
      ]
     },
     "execution_count": 375,
     "metadata": {},
     "output_type": "execute_result"
    }
   ],
   "source": [
    "lin_reg.intercept_, lin_reg.coef_"
   ]
  },
  {
   "cell_type": "code",
   "execution_count": 376,
   "metadata": {},
   "outputs": [
    {
     "data": {
      "image/png": "[encoded data removed]",
      "text/plain": [
       "<Figure size 432x288 with 1 Axes>"
      ]
     },
     "metadata": {},
     "output_type": "display_data"
    }
   ],
   "source": [
    "X_new=np.linspace(-3, 3, 100).reshape(100, 1)\n",
    "X_new_poly = poly_features.transform(X_new)\n",
    "y_new = lin_reg.predict(X_new_poly)\n",
    "plt.plot(X, y, \"b.\")\n",
    "plt.plot(X_new, y_new, \"r-\", linewidth=2, label=\"Predictions\")\n",
    "plt.xlabel(\"$x_1$\", fontsize=18)\n",
    "plt.ylabel(\"$y$\", rotation=0, fontsize=18)\n",
    "plt.legend(loc=\"upper left\", fontsize=14)\n",
    "plt.axis([-3, 3, 0, 10])\n",
    "plt.show()"
   ]
  },
  {
   "cell_type": "code",
   "execution_count": 377,
   "metadata": {},
   "outputs": [
    {
     "data": {
      "image/png": "[encoded data removed]",
      "text/plain": [
       "<Figure size 432x288 with 1 Axes>"
      ]
     },
     "metadata": {},
     "output_type": "display_data"
    }
   ],
   "source": [
    "from sklearn.preprocessing import StandardScaler\n",
    "from sklearn.pipeline import Pipeline\n",
    "\n",
    "for style, width, degree in ((\"g-\", 1, 300), (\"b--\", 2, 2), (\"r-+\", 2, 1)):\n",
    "    polybig_features = PolynomialFeatures(degree=degree, include_bias=False)\n",
    "    std_scaler = StandardScaler()\n",
    "    lin_reg = LinearRegression()\n",
    "    polynomial_regression = Pipeline([\n",
    "            (\"poly_features\", polybig_features),\n",
    "            (\"std_scaler\", std_scaler),\n",
    "            (\"lin_reg\", lin_reg),\n",
    "        ])\n",
    "    polynomial_regression.fit(X, y)\n",
    "    y_newbig = polynomial_regression.predict(X_new)\n",
    "    plt.plot(X_new, y_newbig, style, label=str(degree), linewidth=width)\n",
    "\n",
    "plt.plot(X, y, \"b.\", linewidth=3)\n",
    "plt.legend(loc=\"upper left\")\n",
    "plt.xlabel(\"$x_1$\", fontsize=18)\n",
    "plt.ylabel(\"$y$\", rotation=0, fontsize=18)\n",
    "plt.axis([-3, 3, 0, 10])\n",
    "plt.show()"
   ]
  },
  {
   "cell_type": "markdown",
   "metadata": {},
   "source": [
    "# 3번 - Regularized models"
   ]
  },
  {
   "cell_type": "code",
   "execution_count": 378,
   "metadata": {},
   "outputs": [
    {
     "data": {
      "image/png": "[encoded data removed]",
      "text/plain": [
       "<Figure size 576x288 with 2 Axes>"
      ]
     },
     "metadata": {},
     "output_type": "display_data"
    }
   ],
   "source": [
    "from sklearn.linear_model import Ridge\n",
    "\n",
    "np.random.seed(42)\n",
    "m = 20\n",
    "X = 3 * np.random.rand(m, 1)\n",
    "y = 1 + 0.5 * X + np.random.randn(m, 1) / 1.5\n",
    "X_new = np.linspace(0, 3, 100).reshape(100, 1)\n",
    "\n",
    "def plot_model(model_class, polynomial, alphas, **model_kargs):\n",
    "    for alpha, style in zip(alphas, (\"b-\", \"g--\", \"r:\")):\n",
    "        model = model_class(alpha, **model_kargs) if alpha > 0 else LinearRegression()\n",
    "        if polynomial:\n",
    "            model = Pipeline([\n",
    "                    (\"poly_features\", PolynomialFeatures(degree=10, include_bias=False)),\n",
    "                    (\"std_scaler\", StandardScaler()),\n",
    "                    (\"regul_reg\", model),\n",
    "                ])\n",
    "        model.fit(X, y)\n",
    "        y_new_regul = model.predict(X_new)\n",
    "        lw = 2 if alpha > 0 else 1\n",
    "        plt.plot(X_new, y_new_regul, style, linewidth=lw, label=r\"$\\alpha = {}$\".format(alpha))\n",
    "    plt.plot(X, y, \"b.\", linewidth=3)\n",
    "    plt.legend(loc=\"upper left\", fontsize=15)\n",
    "    plt.xlabel(\"$x_1$\", fontsize=18)\n",
    "    plt.axis([0, 3, 0, 4])\n",
    "\n",
    "plt.figure(figsize=(8,4))\n",
    "plt.subplot(121)\n",
    "plot_model(Ridge, polynomial=False, alphas=(0, 10, 100), random_state=42)  #alpha뭘까\n",
    "plt.ylabel(\"$y$\", rotation=0, fontsize=18)\n",
    "plt.subplot(122)\n",
    "plot_model(Ridge, polynomial=True, alphas=(0, 10**-5, 1), random_state=42)\n",
    "\n",
    "plt.show()"
   ]
  },
  {
   "cell_type": "markdown",
   "metadata": {},
   "source": [
    "# 4번 - 선형분리"
   ]
  },
  {
   "cell_type": "code",
   "execution_count": 379,
   "metadata": {},
   "outputs": [
    {
     "data": {
      "image/png": "[encoded data removed]",
      "text/plain": [
       "<Figure size 432x288 with 1 Axes>"
      ]
     },
     "metadata": {},
     "output_type": "display_data"
    }
   ],
   "source": [
    "import matplotlib.pyplot as plt\n",
    "from mpl_toolkits.mplot3d import Axes3D\n",
    "fig = plt.figure()\n",
    "ax = plt.axes(projection='3d')"
   ]
  },
  {
   "cell_type": "code",
   "execution_count": 380,
   "metadata": {
    "collapsed": true
   },
   "outputs": [],
   "source": [
    "xdata1 = np.array([0,0,1])\n",
    "ydata1 = np.array([0,1,1])\n",
    "zdata1 = np.array([0,1,1])\n",
    "xdata2 = np.array([1,0,0])\n",
    "ydata2 = np.array([0,0,1])\n",
    "zdata2 = np.array([1,1,0])"
   ]
  },
  {
   "cell_type": "code",
   "execution_count": 381,
   "metadata": {},
   "outputs": [
    {
     "data": {
      "text/plain": [
       "<mpl_toolkits.mplot3d.art3d.Path3DCollection at 0x7fd8885d9ba8>"
      ]
     },
     "execution_count": 381,
     "metadata": {},
     "output_type": "execute_result"
    }
   ],
   "source": [
    "ax.scatter3D(xdata1, ydata1, zdata1, c='r', marker='o')\n",
    "ax.scatter3D(xdata2, ydata2, zdata2, c='b', marker='^')"
   ]
  },
  {
   "cell_type": "code",
   "execution_count": 382,
   "metadata": {},
   "outputs": [
    {
     "data": {
      "text/plain": [
       "Text(0.0937963,0.0125663,'z')"
      ]
     },
     "execution_count": 382,
     "metadata": {},
     "output_type": "execute_result"
    }
   ],
   "source": [
    "ax.set_xlabel('x')\n",
    "ax.set_ylabel('y')\n",
    "ax.set_zlabel('z')\n"
   ]
  },
  {
   "cell_type": "code",
   "execution_count": 383,
   "metadata": {},
   "outputs": [
    {
     "data": {
      "image/png": "[encoded data removed]",
      "text/plain": [
       "<Figure size 432x288 with 1 Axes>"
      ]
     },
     "execution_count": 383,
     "metadata": {},
     "output_type": "execute_result"
    }
   ],
   "source": [
    "fig"
   ]
  },
  {
   "cell_type": "markdown",
   "metadata": {},
   "source": [
    "# 5번 - 행렬"
   ]
  },
  {
   "cell_type": "code",
   "execution_count": 384,
   "metadata": {
    "collapsed": true
   },
   "outputs": [],
   "source": [
    "A=np.array([[1,-2,3,5],[2,2,-1,0],[3,0,1,2],[1,0,2,0]])"
   ]
  },
  {
   "cell_type": "code",
   "execution_count": 385,
   "metadata": {},
   "outputs": [
    {
     "data": {
      "text/plain": [
       "array([[ 2, -4,  6, 10],\n",
       "       [ 4,  4, -2,  0],\n",
       "       [ 6,  0,  2,  4],\n",
       "       [ 2,  0,  4,  0]])"
      ]
     },
     "execution_count": 385,
     "metadata": {},
     "output_type": "execute_result"
    }
   ],
   "source": [
    "2*A"
   ]
  },
  {
   "cell_type": "code",
   "execution_count": 386,
   "metadata": {},
   "outputs": [
    {
     "data": {
      "text/plain": [
       "array([[ 1,  2,  3,  1],\n",
       "       [-2,  2,  0,  0],\n",
       "       [ 3, -1,  1,  2],\n",
       "       [ 5,  0,  2,  0]])"
      ]
     },
     "execution_count": 386,
     "metadata": {},
     "output_type": "execute_result"
    }
   ],
   "source": [
    "A.T"
   ]
  },
  {
   "cell_type": "code",
   "execution_count": 387,
   "metadata": {},
   "outputs": [
    {
     "data": {
      "text/plain": [
       "array([[-0.23529412, -0.23529412,  0.58823529, -0.05882353],\n",
       "       [ 0.29411765,  0.79411765, -0.73529412,  0.32352941],\n",
       "       [ 0.11764706,  0.11764706, -0.29411765,  0.52941176],\n",
       "       [ 0.29411765,  0.29411765, -0.23529412, -0.17647059]])"
      ]
     },
     "execution_count": 387,
     "metadata": {},
     "output_type": "execute_result"
    }
   ],
   "source": [
    "from numpy import linalg\n",
    "\n",
    "linalg.inv(A)"
   ]
  },
  {
   "cell_type": "markdown",
   "metadata": {},
   "source": [
    "행렬식 : 2X2행렬에서 ad-bc"
   ]
  },
  {
   "cell_type": "code",
   "execution_count": 388,
   "metadata": {
    "scrolled": true
   },
   "outputs": [
    {
     "data": {
      "text/plain": [
       "34.00000000000001"
      ]
     },
     "execution_count": 388,
     "metadata": {},
     "output_type": "execute_result"
    }
   ],
   "source": [
    "linalg.det(A)"
   ]
  },
  {
   "cell_type": "markdown",
   "metadata": {},
   "source": [
    "고유 분해 : 고윳값과 고유벡터 계산"
   ]
  },
  {
   "cell_type": "markdown",
   "metadata": {},
   "source": [
    "정방행렬 A에 대하여 Ax = λx  (상수 λ) 가 성립하는 0이 아닌 벡터 x가 존재할 때 상수 λ 를 행렬 A의 고유값 (eigenvalue), x 를 이에 대응하는 고유벡터 (eigenvector) 라고 한다. "
   ]
  },
  {
   "cell_type": "code",
   "execution_count": 389,
   "metadata": {
    "collapsed": true
   },
   "outputs": [],
   "source": [
    "w, v = np.linalg.eig(A)  #고유값(eigenvalue) w, 고유벡터(eigenvector) v 의 두 개의 객체를 반환"
   ]
  },
  {
   "cell_type": "code",
   "execution_count": 390,
   "metadata": {},
   "outputs": [
    {
     "data": {
      "text/plain": [
       "array([ 5.52552524+0.j        , -1.52204833+1.31733645j,\n",
       "       -1.52204833-1.31733645j,  1.51857142+0.j        ])"
      ]
     },
     "execution_count": 390,
     "metadata": {},
     "output_type": "execute_result"
    }
   ],
   "source": [
    "w  #고유값"
   ]
  },
  {
   "cell_type": "code",
   "execution_count": 391,
   "metadata": {},
   "outputs": [
    {
     "data": {
      "text/plain": [
       "array([[-0.68465996+0.j        ,  0.619935  +0.j        ,\n",
       "         0.619935  -0.j        ,  0.11199539+0.j        ],\n",
       "       [-0.21666012+0.j        , -0.34875983-0.24694874j,\n",
       "        -0.34875983+0.24694874j, -0.93998928+0.j        ],\n",
       "       [-0.60547918+0.j        , -0.31379356-0.41033136j,\n",
       "        -0.31379356+0.41033136j, -0.22854692+0.j        ],\n",
       "       [-0.34306572+0.j        , -0.263929  +0.31075191j,\n",
       "        -0.263929  -0.31075191j, -0.22725204+0.j        ]])"
      ]
     },
     "execution_count": 391,
     "metadata": {},
     "output_type": "execute_result"
    }
   ],
   "source": [
    "v  #교유벡터"
   ]
  },
  {
   "cell_type": "markdown",
   "metadata": {},
   "source": [
    "특이값 분해(SVD)"
   ]
  },
  {
   "cell_type": "code",
   "execution_count": 392,
   "metadata": {
    "collapsed": true
   },
   "outputs": [],
   "source": [
    "u, s, vh = np.linalg.svd(A)"
   ]
  },
  {
   "cell_type": "code",
   "execution_count": 393,
   "metadata": {},
   "outputs": [
    {
     "data": {
      "text/plain": [
       "array([[-0.8819521 ,  0.25706354, -0.24178316, -0.31244156],\n",
       "       [ 0.05743106, -0.76320224, -0.26028922, -0.58862003],\n",
       "       [-0.42722253, -0.58124436,  0.04756433,  0.69092224],\n",
       "       [-0.19063859, -0.11660051,  0.93355667, -0.28023773]])"
      ]
     },
     "execution_count": 393,
     "metadata": {},
     "output_type": "execute_result"
    }
   ],
   "source": [
    "u"
   ]
  },
  {
   "cell_type": "code",
   "execution_count": 394,
   "metadata": {},
   "outputs": [
    {
     "data": {
      "text/plain": [
       "array([6.97059301, 3.8068416 , 1.85521105, 0.69063894])"
      ]
     },
     "execution_count": 394,
     "metadata": {},
     "output_type": "execute_result"
    }
   ],
   "source": [
    "s"
   ]
  },
  {
   "cell_type": "code",
   "execution_count": 395,
   "metadata": {},
   "outputs": [
    {
     "data": {
      "text/plain": [
       "array([[-0.32126336,  0.26952747, -0.50380033, -0.75520197],\n",
       "       [-0.8221184 , -0.53601693,  0.18911937,  0.03226532],\n",
       "       [ 0.16919264, -0.01995035,  0.78137601, -0.60035603],\n",
       "       [ 0.43850318, -0.7997767 , -0.31602313, -0.2611543 ]])"
      ]
     },
     "execution_count": 395,
     "metadata": {},
     "output_type": "execute_result"
    }
   ],
   "source": [
    "vh"
   ]
  },
  {
   "cell_type": "markdown",
   "metadata": {},
   "source": [
    "# 6번 - norm"
   ]
  },
  {
   "cell_type": "markdown",
   "metadata": {},
   "source": [
    "norm: error를 측정하고 가늠하기위한 측정 도구. 벡터나 행렬의 크기 일반화\n",
    "\n",
    "np.linalg.norm(x, ord=None)\n",
    "\n",
    "x: vector\n",
    "\n",
    "ord: 차수"
   ]
  },
  {
   "cell_type": "code",
   "execution_count": 396,
   "metadata": {
    "collapsed": true
   },
   "outputs": [],
   "source": [
    "x=np.array([3, -4, -1.2, 0, 2.3])"
   ]
  },
  {
   "cell_type": "code",
   "execution_count": 397,
   "metadata": {},
   "outputs": [
    {
     "data": {
      "text/plain": [
       "10.5"
      ]
     },
     "execution_count": 397,
     "metadata": {},
     "output_type": "execute_result"
    }
   ],
   "source": [
    "np.linalg.norm(x.T, ord=1)"
   ]
  },
  {
   "cell_type": "code",
   "execution_count": 398,
   "metadata": {},
   "outputs": [
    {
     "data": {
      "text/plain": [
       "5.632938842203065"
      ]
     },
     "execution_count": 398,
     "metadata": {},
     "output_type": "execute_result"
    }
   ],
   "source": [
    "np.linalg.norm(x.T, ord=2)"
   ]
  },
  {
   "cell_type": "code",
   "execution_count": 399,
   "metadata": {},
   "outputs": [
    {
     "data": {
      "text/plain": [
       "4.716120891176797"
      ]
     },
     "execution_count": 399,
     "metadata": {},
     "output_type": "execute_result"
    }
   ],
   "source": [
    "np.linalg.norm(x.T, ord=3)"
   ]
  },
  {
   "cell_type": "code",
   "execution_count": 400,
   "metadata": {},
   "outputs": [
    {
     "data": {
      "text/plain": [
       "4.0"
      ]
     },
     "execution_count": 400,
     "metadata": {},
     "output_type": "execute_result"
    }
   ],
   "source": [
    "np.linalg.norm(x.T, np.inf)"
   ]
  },
  {
   "cell_type": "markdown",
   "metadata": {},
   "source": [
    "프로베니우스 놈: 행렬에 대한 L2놈"
   ]
  },
  {
   "cell_type": "code",
   "execution_count": 401,
   "metadata": {
    "collapsed": true
   },
   "outputs": [],
   "source": [
    "x2=np.array([[2,1],[1,5],[4,1]])"
   ]
  },
  {
   "cell_type": "code",
   "execution_count": 402,
   "metadata": {},
   "outputs": [
    {
     "data": {
      "text/plain": [
       "6.928203230275509"
      ]
     },
     "execution_count": 402,
     "metadata": {},
     "output_type": "execute_result"
    }
   ],
   "source": [
    "np.linalg.norm(x2)"
   ]
  },
  {
   "cell_type": "code",
   "execution_count": null,
   "metadata": {
    "collapsed": true
   },
   "outputs": [],
   "source": []
  }
 ],
 "metadata": {
  "kernelspec": {
   "display_name": "Python 3",
   "language": "python",
   "name": "python3"
  },
  "language_info": {
   "codemirror_mode": {
    "name": "ipython",
    "version": 3
   },
   "file_extension": ".py",
   "mimetype": "text/x-python",
   "name": "python",
   "nbconvert_exporter": "python",
   "pygments_lexer": "ipython3",
   "version": "3.5.2"
  }
 },
 "nbformat": 4,
 "nbformat_minor": 2
}
